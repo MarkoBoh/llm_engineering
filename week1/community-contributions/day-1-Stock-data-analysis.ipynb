{
 "cells": [
  {
   "cell_type": "markdown",
   "id": "306f1a67-4f1c-4aed-8f80-2a8458a1bce5",
   "metadata": {},
   "source": [
    "# Stock data analysis"
   ]
  },
  {
   "cell_type": "code",
   "execution_count": 1,
   "id": "4e2a9393-7767-488e-a8bf-27c12dca35bd",
   "metadata": {},
   "outputs": [],
   "source": [
    "import os\n",
    "import requests\n",
    "from dotenv import load_dotenv\n",
    "from bs4 import BeautifulSoup\n",
    "from IPython.display import Markdown, display\n",
    "from openai import OpenAI\n",
    "\n",
    "# If you get an error running this cell, then please head over to the troubleshooting notebook!"
   ]
  },
  {
   "cell_type": "markdown",
   "id": "6900b2a8-6384-4316-8aaa-5e519fca4254",
   "metadata": {},
   "source": [
    "# Connecting to OpenAI"
   ]
  },
  {
   "cell_type": "code",
   "execution_count": 2,
   "id": "7b87cadb-d513-4303-baee-a37b6f938e4d",
   "metadata": {},
   "outputs": [
    {
     "name": "stdout",
     "output_type": "stream",
     "text": [
      "API key found and looks good so far!\n"
     ]
    }
   ],
   "source": [
    "# Load environment variables in a file called .env\n",
    "\n",
    "load_dotenv(override=True)\n",
    "api_key = os.getenv('OPENAI_API_KEY')\n",
    "\n",
    "# Check the key\n",
    "\n",
    "if not api_key:\n",
    "    print(\"No API key was found - please head over to the troubleshooting notebook in this folder to identify & fix!\")\n",
    "elif not api_key.startswith(\"sk-proj-\"):\n",
    "    print(\"An API key was found, but it doesn't start sk-proj-; please check you're using the right key - see troubleshooting notebook\")\n",
    "elif api_key.strip() != api_key:\n",
    "    print(\"An API key was found, but it looks like it might have space or tab characters at the start or end - please remove them - see troubleshooting notebook\")\n",
    "else:\n",
    "    print(\"API key found and looks good so far!\")\n"
   ]
  },
  {
   "cell_type": "code",
   "execution_count": 3,
   "id": "019974d9-f3ad-4a8a-b5f9-0a3719aea2d3",
   "metadata": {},
   "outputs": [],
   "source": [
    "openai = OpenAI()"
   ]
  },
  {
   "cell_type": "code",
   "execution_count": 4,
   "id": "51d42a08-188e-4c56-9578-47cd549bd1d8",
   "metadata": {},
   "outputs": [],
   "source": [
    "from urllib.parse import urlencode\n",
    "import datetime\n",
    "\n",
    "headers = {\n",
    " \"User-Agent\": \"Mozilla/5.0 (Windows NT 10.0; Win64; x64) AppleWebKit/537.36 (KHTML, like Gecko) Chrome/117.0.0.0 Safari/537.36\"\n",
    "}"
   ]
  },
  {
   "cell_type": "code",
   "execution_count": 5,
   "id": "682eff74-55c4-4d4b-b267-703edbc293c7",
   "metadata": {},
   "outputs": [],
   "source": [
    "class YahooFinanceWebsite:\n",
    "    def __init__(self, stock_symbol):\n",
    "        \"\"\"\n",
    "        Create this Website object from the given url using the BeautifulSoup library\n",
    "        \"\"\"\n",
    "        self.stock_symbol = stock_symbol.upper()\n",
    "\n",
    "    def __build_url(self, params):\n",
    "        base_url = f\"https://finance.yahoo.com/quote/{self.stock_symbol}/history/\"\n",
    "        query_string = urlencode(params)\n",
    "        return f\"{base_url}?{query_string}\"\n",
    "\n",
    "    def get_stock_data(self):\n",
    "        datetime_now = datetime.datetime.now()\n",
    "        datetime_year_ago = datetime_now - datetime.timedelta(days=365)\n",
    "        params = {\"frequency\": \"1wk\", \"period1\": datetime_year_ago.timestamp(), \"period2\": datetime_now.timestamp()}\n",
    "        url = self.__build_url(params)\n",
    "        response = requests.get(url, headers=headers)\n",
    "\n",
    "        soup = BeautifulSoup(response.content, 'html.parser')\n",
    "        \n",
    "        title = soup.title.string if soup.title else \"No title found\"\n",
    "        for irrelevant in soup.body([\"script\", \"style\", \"img\", \"input\"]):\n",
    "            irrelevant.decompose()\n",
    "\n",
    "        html_table_data = soup.find(\"table\")\n",
    "\n",
    "        return title, html_table_data"
   ]
  },
  {
   "cell_type": "code",
   "execution_count": 6,
   "id": "70b8d7e7-51e7-4392-9b85-9ac9f67a907c",
   "metadata": {},
   "outputs": [],
   "source": [
    "def build_stock_analysis_prompt(stock_symbol, title, stock_table_data):\n",
    "    sys_prompt = r\"\"\"You are an assistant that analyzes the contents of HTML formated table that contains data on a specific stock.\n",
    "    The HTML table contains the date, open price, close price, low and highs aggregated for every week over one year timeframe.\n",
    "    Ignoring text, tags or html attributes that might be navigation related. \n",
    "    Respond in Markdown format\"\"\"\n",
    "    \n",
    "    user_prompt = f\"The data provided below in the HTML table format for {stock_symbol} from the Yahoo Finances.\\\n",
    "    Make the explaination easy enough for a newbie to understand. \\\n",
    "    Analyze and Summarize the trends on this stock:\\n{stock_table_data}\\n\\n\\\n",
    "    Also, calculate the total returns in percentage one could have expected over this period.\"\n",
    "    \n",
    "    return [\n",
    "        {\"role\": \"system\", \"content\": sys_prompt},\n",
    "        {\"role\": \"user\", \"content\": user_prompt}\n",
    "    ]"
   ]
  },
  {
   "cell_type": "code",
   "execution_count": 7,
   "id": "de514421-4cc8-4881-85b4-97f03e94c589",
   "metadata": {},
   "outputs": [],
   "source": [
    "def analyze_stock_trends(stock_symbol):\n",
    "    stock_data_page = YahooFinanceWebsite(stock_symbol)\n",
    "    title, stock_table_data = stock_data_page.get_stock_data()\n",
    "    response = openai.chat.completions.create(\n",
    "        model = \"gpt-4o-mini\",\n",
    "        messages = build_stock_analysis_prompt(stock_symbol, title, stock_table_data)\n",
    "    )\n",
    "    return response.choices[0].message.content\n",
    "\n",
    "def display_analysis(stock_symbol):\n",
    "    display(Markdown(analyze_stock_trends(stock_symbol)))"
   ]
  },
  {
   "cell_type": "code",
   "execution_count": 8,
   "id": "41acc36f-484a-4257-a240-cf27520e7396",
   "metadata": {},
   "outputs": [
    {
     "data": {
      "text/markdown": [
       "## Analysis and Summary of GOOG Stock Trends\n",
       "\n",
       "### Overview\n",
       "The provided data outlines the weekly performance of Google's stock (GOOG) over the course of approximately one year. It includes various parameters like **Open**, **High**, **Low**, **Close**, **Adjusted Close**, and **Volume** for each week's trading, along with dividend information when applicable.\n",
       "\n",
       "### Price Trends\n",
       "\n",
       "1. **Overall Trend:**\n",
       "   - **Price Rise:** The stock started at 143.43 on January 15, 2024, and ended at 189.72 on January 13, 2025. \n",
       "   - **Current Direction:** There has been a noticeable uptrend over the sampled months, indicating strong performance in the market.\n",
       "\n",
       "2. **Price Fluctuation:**\n",
       "   - **Highs and Lows:** Weekly highs reached up to 202.14 on January 6, 2025, and lows dropped to as low as 137.07 during the week of March 11, 2024. This underscores volatility in the stock's trading price.\n",
       "   - **Recent Volatility:** There were significant price movements particularly in December 2024 and early January 2025.\n",
       "\n",
       "3. **Closing Prices:**\n",
       "   - The closing prices over the weeks show a substantial increase, especially in recent weeks when prices generally hovered around $190 after hitting lows of around $150 earlier in the year.\n",
       "\n",
       "### Volume Trends\n",
       "- **Trading Volume:** Weekly trading volumes indicate investor activity and interest levels in GOOG. For instance, the highest volume recorded was 156,317,400 on December 16, 2024, indicating heightened trading activity at that time.\n",
       "- **Volume Consistency:** There are fluctuations in trading volume, which can indicate periods of uncertainty or strong interest from investors.\n",
       "\n",
       "### Dividend Payments\n",
       "- **Dividends Declared:** The data shows that GOOG issued dividends at least three times within the span, hinting at shareholder value returns.\n",
       "\n",
       "### Total Returns Calculation\n",
       "\n",
       "To calculate returns:\n",
       "\n",
       "1. **Starting Price:** $143.43 (Jan 15, 2024)\n",
       "2. **Ending Price:** $189.72 (Jan 13, 2025)\n",
       "\n",
       "The formula for the percentage return is:\n",
       "\n",
       "\\[\n",
       "\\text{Percentage Return} = \\left(\\frac{\\text{Ending Price} - \\text{Starting Price}}{\\text{Starting Price}}\\right) \\times 100\n",
       "\\]\n",
       "\n",
       "Calculation:\n",
       "\n",
       "\\[\n",
       "\\text{Percentage Return} = \\left(\\frac{189.72 - 143.43}{143.43}\\right) \\times 100 = \\left(\\frac{46.29}{143.43}\\right) \\times 100 \\approx 32.3\\%\n",
       "\\]\n",
       "\n",
       "### Conclusion \n",
       "\n",
       "- **Performance Summary:** GOOG has shown a positive upward trend throughout the year, with a total return of approximately **32.3%** over the period.\n",
       "- **Investment Insights:** There have been periods of volatility, but the overall performance suggests that long-term holding may have yielded favorable returns for investors.\n",
       "- **Monitoring Future Trends:** It’s critical to keep track of ongoing price movements and market conditions, especially with significant fluctuations and dividend announcements which could impact future investment decisions."
      ],
      "text/plain": [
       "<IPython.core.display.Markdown object>"
      ]
     },
     "metadata": {},
     "output_type": "display_data"
    }
   ],
   "source": [
    "display_analysis(\"GOOG\")"
   ]
  },
  {
   "cell_type": "code",
   "execution_count": 9,
   "id": "7e09541f-bbc4-4cf3-a1ef-9ed5e1b718e4",
   "metadata": {},
   "outputs": [
    {
     "data": {
      "text/markdown": [
       "# MSFT Stock Analysis and Trends\n",
       "\n",
       "Here's a summary of the weekly performance of Microsoft (MSFT) stock over the specified time period. The data shows various key metrics such as Opening Price, High Price, Low Price, Closing Price, Adjusted Closing Price, and Volume traded.\n",
       "\n",
       "## Key Observations\n",
       "\n",
       "### Price Movements:\n",
       "1. **Opening and Closing Prices**: \n",
       "   - The stock opened at **415.23** on January 13, 2025, and closed at **398.67** on January 15, 2024. \n",
       "   - The highest recent opening price noted was **466.55** on July 8, 2024.\n",
       "   - The stock fluctuated throughout the year, with closing prices reaching highs and lows due to market conditions.\n",
       "\n",
       "2. **High and Low Prices**: \n",
       "   - During the analyzed period, the price reached a high of **467.70** and a low of **385.58**.\n",
       "   - This reflects considerable volatility, typical for a high-tech stock like Microsoft.\n",
       "\n",
       "3. **Overall Trend**: \n",
       "   - The stock experienced a general upward trend towards the middle of 2024, hitting its peak.\n",
       "   - Thereafter, there were corrections that saw prices fall back, especially noted from Dec 2024 leading into early Jan 2025.\n",
       "\n",
       "### Trading Volume:\n",
       "- Fluctuations in trading volume were significant, with the highest recorded volume of **164,761,600** on January 29, 2024.\n",
       "- This indicates varying interest and activity from traders, which can influence stock prices.\n",
       "\n",
       "### Dividends:\n",
       "- MSFT also paid several dividends throughout the year, with amounts such as **0.75** to **0.83** per share, reflecting the company's commitment to returning value to shareholders.\n",
       "\n",
       "## Total Return Calculation\n",
       "\n",
       "To calculate the total return over the period:\n",
       "- **Initial Price (January 15, 2024)**: **398.67**\n",
       "- **Final Price (January 13, 2025)**: **417.07**\n",
       "\n",
       "### Calculation Formula:\n",
       "\\[\n",
       "\\text{Total Return} = \\left( \\frac{\\text{Final Price} - \\text{Initial Price}}{\\text{Initial Price}} \\right) \\times 100\\%\n",
       "\\]\n",
       "\\[\n",
       "\\text{Total Return} = \\left( \\frac{417.07 - 398.67}{398.67} \\right) \\times 100\\% \\approx 4.68\\%\n",
       "\\]\n",
       "\n",
       "### Conclusion\n",
       "Investing in MSFT during this timeframe could have yielded approximately **4.68%** in total return, not accounting for dividends which would additionally increase this figure. The stock showed promising growth during the year, but with notable fluctuations that could present risks to investors. \n",
       "\n",
       "### Final Note:\n",
       "For anyone interested in investing, it's crucial to consider both market trends and individual company performance, alongside broader economic indicators. Regular monitoring and staying updated on company news can help manage risks effectively."
      ],
      "text/plain": [
       "<IPython.core.display.Markdown object>"
      ]
     },
     "metadata": {},
     "output_type": "display_data"
    }
   ],
   "source": [
    "display_analysis(\"MSFT\")"
   ]
  },
  {
   "cell_type": "code",
   "execution_count": 10,
   "id": "e6af9395-0c5c-4265-a309-baba786bfa71",
   "metadata": {},
   "outputs": [
    {
     "data": {
      "text/markdown": [
       "# AAPL Stock Analysis Summary\n",
       "\n",
       "Based on the provided weekly data for Apple Inc. (AAPL) stock, let’s analyze the trends over the past year.\n",
       "\n",
       "## Key Observations:\n",
       "1. **Price Trends**:\n",
       "   - The stock began at **$182.16** on January 15, 2024, and reached **$231.40** by January 13, 2025.\n",
       "   - The highest closing price during this period was **$255.59** recorded on December 23, 2024.\n",
       "   - The lowest point was **$165.00** on April 15, 2024.\n",
       "\n",
       "2. **Volatility**:\n",
       "   - There were noticeable fluctuations in price throughout the year; for example, the stock jumped from **$185.85** to **$192.42** in a single week (January 29 to February 5, 2024).\n",
       "   - The volume of shares traded also varied greatly, with peaks like **635,755,100** on June 10, 2024, indicating high interest or news that affected stock prices.\n",
       "\n",
       "3. **Significant Events**:\n",
       "   - Regular dividends were noted, such as **$0.25** per share on multiple occasions, which indicates that the stock not only grows but also provides returns via dividends.\n",
       "   - The data suggests that the stock responded to market events, evident from the significant price changes following dividend announcements or earnings reports.\n",
       "\n",
       "## Performance Calculation:\n",
       "To calculate the total return percentage over the period:\n",
       "\n",
       "1. **Initial Price (Jan 15, 2024)**: $182.16\n",
       "2. **Final Price (Jan 13, 2025)**: $231.40\n",
       "\n",
       "### Total Return Formula:\n",
       "\\[ \n",
       "\\text{Total Return (\\%)} = \\left( \\frac{\\text{Final Price} - \\text{Initial Price}}{\\text{Initial Price}} \\right) \\times 100 \n",
       "\\]\n",
       "\n",
       "Substituting in the values:\n",
       "\n",
       "\\[\n",
       "\\text{Total Return (\\%)} = \\left( \\frac{231.40 - 182.16}{182.16} \\right) \\times 100 \\approx 27.0\\%\n",
       "\\]\n",
       "\n",
       "## Conclusion:\n",
       "Over this one-year period, AAPL showed a strong upward trend with a total return of approximately **27%**. This includes both price appreciation and dividends, making it a potentially rewarding investment for shareholders. However, the volatility of the stock suggests that while there are opportunities for gains, investors should also be aware of the risks associated with price fluctuations."
      ],
      "text/plain": [
       "<IPython.core.display.Markdown object>"
      ]
     },
     "metadata": {},
     "output_type": "display_data"
    }
   ],
   "source": [
    "display_analysis(\"AAPL\")"
   ]
  },
  {
   "cell_type": "code",
   "execution_count": 11,
   "id": "afe4f6d1-a6ea-44b5-81ae-8e756cfc0d84",
   "metadata": {},
   "outputs": [
    {
     "data": {
      "text/markdown": [
       "## BIDU Stock Analysis (Jan 2024 - Jan 2025)\n",
       "\n",
       "### Summary of the Data\n",
       "The data provided includes the weekly stock prices for BIDU (Baidu Inc) over a period of approximately one year. It covers the following key metrics:\n",
       "\n",
       "1. **Open Price** - The price at which the stock opened for trading during the week.\n",
       "2. **High Price** - The highest price reached during the week.\n",
       "3. **Low Price** - The lowest price that the stock dropped to during the week.\n",
       "4. **Close Price** - The final price at which the stock closed at the end of the week.\n",
       "5. **Adjusted Close** - The closing price adjusted for any splits or dividends.\n",
       "6. **Volume** - The number of shares traded during that week.\n",
       "\n",
       "### General Trends\n",
       "\n",
       "- **Starting and Ending Prices**\n",
       "  - The starting price on January 15, 2024, was **$102.65**.\n",
       "  - The closing price on January 13, 2025, was **$78.20**.\n",
       "  \n",
       "- **Price Movement**\n",
       "  - Over the period, the stock experienced significant fluctuations.\n",
       "  - Prices peaked at around **$113.44** on May 6, 2024, but then fell sharply to **$77.43** by the first week of January 2025.\n",
       "\n",
       "- **Highs and Lows**\n",
       "  - The stock saw a maximum weekly high of **$114.99** and consistent sell-offs leading to lower prices toward the end of the observation period.\n",
       "  - The stock experienced significant downward pressure, especially noted by the dramatic fall from **$113.41** on April 29, 2024, to **$78.20** on January 13, 2025.\n",
       "\n",
       "- **Volume of Trades**\n",
       "  - Trading volumes were notably high during certain weeks, indicating increased investor activity, particularly around significant price movements.\n",
       "\n",
       "### Performance Analysis\n",
       "To find out the total returns, we can use the following formula:\n",
       "\n",
       "\\[\n",
       "\\text{Total Return (\\%)} = \\left( \\frac{\\text{Ending Price} - \\text{Starting Price}}{\\text{Starting Price}} \\right) \\times 100\n",
       "\\]\n",
       "\n",
       "- **Starting Price (Jan 15, 2024)**: **$102.65**\n",
       "- **Ending Price (Jan 13, 2025)**: **$78.20**\n",
       "\n",
       "Now, applying the formula:\n",
       "\n",
       "\\[\n",
       "\\text{Total Return (\\%)} = \\left( \\frac{78.20 - 102.65}{102.65} \\right) \\times 100\n",
       "\\]\n",
       "\n",
       "\\[\n",
       "= \\left( \\frac{-24.45}{102.65} \\right) \\times 100 \\approx -23.84\\%\n",
       "\\]\n",
       "\n",
       "### Conclusion\n",
       "BIDU has seen a decline of approximately **23.84%** over the observed period. This drop indicates a downward trend, where investors might want to be cautious looking forward. Despite some fluctuations and high volumes, the general sentiment shows declining stock value through this timeframe. New investors should consider these trends and do further research before making financial decisions."
      ],
      "text/plain": [
       "<IPython.core.display.Markdown object>"
      ]
     },
     "metadata": {},
     "output_type": "display_data"
    }
   ],
   "source": [
    "display_analysis(\"BIDU\")"
   ]
  },
  {
   "cell_type": "code",
   "execution_count": null,
   "id": "b0e3a4c8-4344-49b9-802b-7ab55972761f",
   "metadata": {},
   "outputs": [],
   "source": []
  }
 ],
 "metadata": {
  "kernelspec": {
   "display_name": "Python 3 (ipykernel)",
   "language": "python",
   "name": "python3"
  },
  "language_info": {
   "codemirror_mode": {
    "name": "ipython",
    "version": 3
   },
   "file_extension": ".py",
   "mimetype": "text/x-python",
   "name": "python",
   "nbconvert_exporter": "python",
   "pygments_lexer": "ipython3",
   "version": "3.11.11"
  }
 },
 "nbformat": 4,
 "nbformat_minor": 5
}
