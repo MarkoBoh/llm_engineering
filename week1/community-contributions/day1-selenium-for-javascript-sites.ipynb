{
 "cells": [
  {
   "cell_type": "markdown",
   "id": "d15d8294-3328-4e07-ad16-8a03e9bbfdb9",
   "metadata": {},
   "source": [
    "# Instant Gratification!\n",
    "\n",
    "Let's build a useful LLM solution - in a matter of minutes.\n",
    "\n",
    "Our goal is to code a new kind of Web Browser. Give it a URL, and it will respond with a summary. The Reader's Digest of the internet!!\n",
    "\n",
    "Before starting, be sure to have followed the instructions in the \"README\" file, including creating your API key with OpenAI and adding it to the `.env` file.\n",
    "\n",
    "## If you're new to Jupyter Lab\n",
    "\n",
    "Welcome to the wonderful world of Data Science experimentation! Once you've used Jupyter Lab, you'll wonder how you ever lived without it. Simply click in each \"cell\" with code in it, like the cell immediately below this text, and hit Shift+Return to execute that cell. As you wish, you can add a cell with the + button in the toolbar, and print values of variables, or try out variations.\n",
    "\n",
    "If you need to start again, go to Kernel menu >> Restart kernel."
   ]
  },
  {
   "cell_type": "code",
   "execution_count": 1,
   "id": "4e2a9393-7767-488e-a8bf-27c12dca35bd",
   "metadata": {},
   "outputs": [],
   "source": [
    "# imports\n",
    "\n",
    "import os\n",
    "import requests\n",
    "from dotenv import load_dotenv\n",
    "from bs4 import BeautifulSoup\n",
    "from IPython.display import Markdown, display\n",
    "from openai import OpenAI"
   ]
  },
  {
   "cell_type": "markdown",
   "id": "6900b2a8-6384-4316-8aaa-5e519fca4254",
   "metadata": {},
   "source": [
    "# Connecting to OpenAI\n",
    "\n",
    "The next cell is where we load in the environment variables in your `.env` file and connect to OpenAI.\n",
    "\n",
    "## Troubleshooting if you have problems:\n",
    "\n",
    "1. OpenAI takes a few minutes to register after you set up an account. If you receive an error about being over quota, try waiting a few minutes and try again.\n",
    "2. Also, double check you have the right kind of API token with the right permissions. You should find it on [this webpage](https://platform.openai.com/api-keys) and it should show with Permissions of \"All\". If not, try creating another key by:\n",
    "- Pressing \"Create new secret key\" on the top right\n",
    "- Select **Owned by:** you, **Project:** Default project, **Permissions:** All\n",
    "- Click Create secret key, and use that new key in the code and the `.env` file (it might take a few minutes to activate)\n",
    "- Do a Kernel >> Restart kernel, and execute the cells in this Jupyter lab starting at the top\n",
    "4. As a fallback, replace the line `openai = OpenAI()` with `openai = OpenAI(api_key=\"your-key-here\")` - while it's not recommended to hard code tokens in Jupyter lab, because then you can't share your lab with others, it's a workaround for now\n",
    "5. Contact me! Message me or email ed@edwarddonner.com and we will get this to work.\n",
    "\n",
    "Any concerns about API costs? See my notes in the README - costs should be minimal, and you can control it at every point."
   ]
  },
  {
   "cell_type": "code",
   "execution_count": 2,
   "id": "7b87cadb-d513-4303-baee-a37b6f938e4d",
   "metadata": {},
   "outputs": [],
   "source": [
    "# Load environment variables in a file called .env\n",
    "\n",
    "load_dotenv()\n",
    "os.environ['OPENAI_API_KEY'] = os.getenv('OPENAI_API_KEY','your-key-if-not-using-env')\n",
    "openai = OpenAI()"
   ]
  },
  {
   "cell_type": "code",
   "execution_count": 3,
   "id": "c5e793b2-6775-426a-a139-4848291d0463",
   "metadata": {},
   "outputs": [],
   "source": [
    "# A class to represent a Webpage\n",
    "\n",
    "class Website:\n",
    "    url: str\n",
    "    title: str\n",
    "    text: str\n",
    "\n",
    "    def __init__(self, url):\n",
    "        self.url = url\n",
    "        response = requests.get(url)\n",
    "        soup = BeautifulSoup(response.content, 'html.parser')\n",
    "        self.title = soup.title.string if soup.title else \"No title found\"\n",
    "        for irrelevant in soup.body([\"script\", \"style\", \"img\", \"input\"]):\n",
    "            irrelevant.decompose()\n",
    "        self.text = soup.body.get_text(separator=\"\\n\", strip=True)"
   ]
  },
  {
   "cell_type": "code",
   "execution_count": 4,
   "id": "2ef960cf-6dc2-4cda-afb3-b38be12f4c97",
   "metadata": {},
   "outputs": [
    {
     "name": "stdout",
     "output_type": "stream",
     "text": [
      "Vašo vizijo podpremo s tehnologijo - Agitavit\n",
      "Agitavit\n",
      "Kaj delamo\n",
      "Storitve\n",
      "Digitalizacija po meri\n",
      "Razvoj mobilnih aplikacij\n",
      "Umetna inteligenca\n",
      "Rešitve in produkti\n",
      "Digitalizacija HR z eHRM\n",
      "Digital Agora\n",
      "V 20 letih še nisem imel priložnosti sodelovati s tako agilnim, zanesljivim in na stranko osredotočenim podjetjem. Agitavit je res pravi partner, ko gre za doseganje zahtevnih poslovnih ciljev.\"\n",
      "Stefan Luhede, NBS - Head Sandoz IT CC R&D, HEXAL AG\n",
      "O nas\n",
      "Zaposlimo\n",
      "Stranke\n",
      "Vsebine\n",
      "Dogodki\n",
      "Kontakt\n",
      "sl\n",
      "Slovenščina\n",
      "English\n",
      "Open menu\n",
      "Close menu\n",
      "Kaj delamo\n",
      "Storitve\n",
      "Digitalizacija po meri\n",
      "Razvoj mobilnih aplikacij\n",
      "Umetna inteligenca\n",
      "Rešitve in produkti\n",
      "Digitalizacija HR z eHRM\n",
      "Digital Agora\n",
      "O nas\n",
      "Zaposlimo\n",
      "Stranke\n",
      "Vsebine\n",
      "Dogodki\n",
      "Slovenščina\n",
      "English\n",
      "Vašo vizijo podpremo s tehnologijo\n",
      "Agitavit Solutions\n",
      "Storitve\n",
      "20 let izkušenj\n",
      "Že dve desetletji ustvarjamo uspešne zgodbe za digitalno prihodnost.\n",
      "130 sodelavcev\n",
      "Smo izkušeni strokovnjaki, ki nas združuje želja stranke navdušiti z najboljšimi digitalnimi rešitvami.\n",
      "Gradimo dolgoročna partnerstva\n",
      "V širšem okolju smo prepoznani po kakovosti, zanesljivosti in agilnosti.\n",
      "20 let izkušenj\n",
      "Že dve desetletji ustvarjamo uspešne zgodbe za digitalno prihodnost.\n",
      "130 sodelavcev\n",
      "Smo izkušeni strokovnjaki, ki nas združuje želja stranke navdušiti z najboljšimi digitalnimi rešitvami.\n",
      "Gradimo dolgoročna partnerstva\n",
      "V širšem okolju smo prepoznani po kakovosti, zanesljivosti in agilnosti.\n",
      "Kdo smo?\n",
      "Smo strokovnjaki, zavezani k reševanju poslovnih izzivov z digitalnimi produkti in storitvami. Podpremo vas, da delate bolje, uspešneje uresničujete svojo vizijo in cilje ter povečujete konkurenčno prednost.\n",
      "Spoznajte nas\n",
      "Kaj delamo?\n",
      "Digitalizacija procesov po meri\n",
      "Na trgu ne najdete rešitve, ki bi odgovarjala vašim potrebam? Razvijemo unikatno rešitev po meri, ki vam bo prinašala dodano vrednost in omogočila konkurenčno prednost.\n",
      "Digitalizacija HR z eHRM\n",
      "Dosezite polni potencial vaših sodelavcev in zgradite ekipo za poslovne uspehe. Rešitev eHRM celovito podpre vaše delo z zaposlenimi.\n",
      "Komunikacijska platforma Digital Agora\n",
      "Imate v podjetju veliko število sodelavk in sodelavcev, ki nimajo dostopa do digitalnih poslovnih orodij? Z Digital Agoro povežete prav vse vaše zaposlene.\n",
      "130+ partnerjev nam zaupa svoje projekte že od leta 2003\n",
      "Projekti\n",
      "Naše znanje in informacije\n",
      "Vse\n",
      "Novica\n",
      "Blog\n",
      "Webinar\n",
      "Vodič\n",
      "Letak\n",
      "Novica\n",
      "Generali zavarovalnica: Sistematičen pristop k razvoju potencialov\n",
      "Vlaganje v potencialne kadre je ključno za napredek in uspeh podjetja. Talente pa je potrebno pravočasno prepoznati ter jih pri želeni osebni ter karierni rasti ustrezno podpreti.\n",
      "Blog\n",
      "HR je agent sprememb v organizaciji\n",
      "Velikokrat v pogovorih s kolegi kadroviki naslavljamo operativne izzive, s katerimi se dnevno srečujemo v HR službi in s katerimi se tudi sodelavci obračajo na nas. To so teme, ki so pogosto nujne narave, brez katerih bi sodelavci težko opravljali tekoče delo v organizaciji.\n",
      "Novica\n",
      "Zaživela je nova podoba eHRM!\n",
      "Nova preobleka kadrovske rešitve eHRM prinaša večjo intuitivnost, hkrati pa vnaša tudi estetski užitek v vsakodnevno upravljanje kadrovskih procesov. Zasnovali smo jo z mislijo na vas, da bo vsakodnevna uporaba postala še enostavnejša in prijetnejša ‒ ne samo za kadrovike, temveč tudi za vodje in druge sodelavce.\n",
      "Kontakt\n",
      "Telefon:\n",
      "+386 1 242 56 70\n",
      "Fax: +386 1 242 56 76\n",
      "E-mail:\n",
      "info@agitavit.si\n",
      "Naslov\n",
      "Agitavit Solutions d.o.o.\n",
      "Letališka cesta 33f\n",
      "1000 Ljubljana\n",
      "Slovenija, Evropa\n",
      "Storitve\n",
      "Digitalizacija po meri\n",
      "Razvoj mobilnih aplikacij\n",
      "Umetna inteligenca\n",
      "Rešitve in produkti\n",
      "Digitalizacija HR z eHRM\n",
      "Digital Agora\n",
      "O nas\n",
      "O Agitavitu\n",
      "Stranke\n",
      "Kontakt\n",
      "Zaposlitev\n",
      "Odprta delovna mesta\n",
      "Ugodnosti za zaposlene\n",
      "Vsebine\n",
      "Novica\n",
      "Blog\n",
      "Letak\n",
      "Vodič\n",
      "Dogodek\n",
      "Certifikat informacijske varnosti\n",
      "Smo družabni\n",
      "Facebook\n",
      "Linkedin\n",
      "Prijava na e-novice\n",
      "Ne zamudite naših vsebin\n",
      "© 2025 - Agitavit\n",
      "Varstvo osebnih podatkov\n",
      "Politika zasebnosti\n",
      "Izdelava: Epic.\n",
      "Da vam zagotovimo najboljšo uporabniško izkušnjo, na našem spletnem mestu uporabljamo piškotke.\n",
      "Več o tem, katere piškotke uporabljamo in njihove nastavitve, lahko izveste\n",
      "tukaj\n",
      ".\n",
      "Sprejmi vse piškotke\n",
      "Zavrni\n",
      "Nastavitve piškotkov\n",
      "Piškotki\n",
      "Close GDPR Cookie Settings\n",
      "Pregled zasebnosti\n",
      "Nujno potrebni piškotki\n",
      "Analitični piškotki\n",
      "Več o piškotkih\n",
      "Pregled zasebnosti\n",
      "Piškotki so male besedilne datoteke, ki jih večina spletnih mest shrani v naprave uporabnikov, s katerimi dostopajo do interneta. Shranjevanje piškotkov je pod vašim popolnim nadzorom, saj lahko v brskalniku, ki ga uporabljate, hranjenje piškotkov omejite ali onemogočite.\n",
      "Nujno potrebni piškotki\n",
      "Nujno potrebni piškotki so funkcionalni piškotki, ki so potrebni za delovanje spletne strani. Te namestimo zato, da vam lahko zagotovimo storitve, ki jih kot uporabnik spletne strani zahtevate. Za uporabo teh piškotkov ne potrebujemo vašega dovoljenja.\n",
      "Enable or Disable Cookies\n",
      "Analitični piškotki\n",
      "To spletno mesto uporablja Google Analytics za zbiranje anonimnih informacij, kot so število obiskovalcev spletnega mesta in najbolj priljubljene strani. Če je ta piškotek omogočen, nam pomaga izboljšati naše spletno mesto.\n",
      "Enable or Disable Cookies\n",
      "Najprej omogočite nujno potrebne piškotke, da bomo lahko shranili vaše nastavitve!\n",
      "Več o piškotkih\n",
      "Več informacij o piškotkih si lahko preberete\n",
      "tukaj.\n",
      "Sprejmi vse\n",
      "Zavrni vse\n",
      "Shrani spremembe\n"
     ]
    }
   ],
   "source": [
    "# Let's try one out\n",
    "\n",
    "ed = Website(\"https://www.agitavit.si/\")\n",
    "print(ed.title)\n",
    "print(ed.text)"
   ]
  },
  {
   "cell_type": "markdown",
   "id": "6a478a0c-2c53-48ff-869c-4d08199931e1",
   "metadata": {},
   "source": [
    "## Types of prompts\n",
    "\n",
    "You may know this already - but if not, you will get very familiar with it!\n",
    "\n",
    "Models like GPT4o have been trained to receive instructions in a particular way.\n",
    "\n",
    "They expect to receive:\n",
    "\n",
    "**A system prompt** that tells them what task they are performing and what tone they should use\n",
    "\n",
    "**A user prompt** -- the conversation starter that they should reply to"
   ]
  },
  {
   "cell_type": "code",
   "execution_count": 5,
   "id": "abdb8417-c5dc-44bc-9bee-2e059d162699",
   "metadata": {},
   "outputs": [],
   "source": [
    "system_prompt = \"You are an assistant that analyzes the contents of a website \\\n",
    "and provides a short summary, ignoring text that might be navigation related. \\\n",
    "Respond in markdown.\""
   ]
  },
  {
   "cell_type": "code",
   "execution_count": 6,
   "id": "f0275b1b-7cfe-4f9d-abfa-7650d378da0c",
   "metadata": {},
   "outputs": [],
   "source": [
    "def user_prompt_for(website):\n",
    "    user_prompt = f\"You are looking at a website titled {website.title}\"\n",
    "    user_prompt += \"The contents of this website is as follows; \\\n",
    "please provide a short summary of this website in markdown. \\\n",
    "If it includes news or announcements, then summarize these too.\\n\\n\"\n",
    "    user_prompt += website.text\n",
    "    return user_prompt"
   ]
  },
  {
   "cell_type": "markdown",
   "id": "ea211b5f-28e1-4a86-8e52-c0b7677cadcc",
   "metadata": {},
   "source": [
    "## Messages\n",
    "\n",
    "The API from OpenAI expects to receive messages in a particular structure.\n",
    "Many of the other APIs share this structure:\n",
    "\n",
    "```\n",
    "[\n",
    "    {\"role\": \"system\", \"content\": \"system message goes here\"},\n",
    "    {\"role\": \"user\", \"content\": \"user message goes here\"}\n",
    "]"
   ]
  },
  {
   "cell_type": "code",
   "execution_count": 7,
   "id": "0134dfa4-8299-48b5-b444-f2a8c3403c88",
   "metadata": {},
   "outputs": [],
   "source": [
    "def messages_for(website):\n",
    "    return [\n",
    "        {\"role\": \"system\", \"content\": system_prompt},\n",
    "        {\"role\": \"user\", \"content\": user_prompt_for(website)}\n",
    "    ]"
   ]
  },
  {
   "cell_type": "markdown",
   "id": "16f49d46-bf55-4c3e-928f-68fc0bf715b0",
   "metadata": {},
   "source": [
    "## Time to bring it together - the API for OpenAI is very simple!"
   ]
  },
  {
   "cell_type": "code",
   "execution_count": 8,
   "id": "43f60f9a-c7b1-4369-ba3b-2e987abf16e7",
   "metadata": {},
   "outputs": [],
   "source": [
    "def summarize(url):\n",
    "    website = Website(url)\n",
    "    response = openai.chat.completions.create(\n",
    "        model = \"gpt-4o-mini\",\n",
    "        messages = messages_for(website)\n",
    "    )\n",
    "    return response.choices[0].message.content"
   ]
  },
  {
   "cell_type": "code",
   "execution_count": 9,
   "id": "05e38d41-dfa4-4b20-9c96-c46ea75d9fb5",
   "metadata": {},
   "outputs": [
    {
     "data": {
      "text/plain": [
       "\"# Summary of Edward Donner's Website\\n\\nEdward Donner is an AI enthusiast and co-founder of Nebula.io, a company focused on leveraging AI to assist individuals in discovering their potential and improving talent management for recruiters. The website features personal insights into his interests, including coding, LLM (Large Language Model) experimentation, and music. \\n\\n## Key Features:\\n- **Outsmart**: A platform designed for LLMs to compete in a diplomatic and strategic environment.\\n- **Posts**: Various articles and resources, including:\\n  - **December 21, 2024**: A welcome message to SuperDataScientists.\\n  - **November 13, 2024**: Resources for mastering AI and LLM engineering.\\n  - **October 16, 2024**: Guidance for transitioning from a software engineer to an AI data scientist.\\n  - **August 6, 2024**: Information about the Outsmart LLM Arena.\\n\\nEdward invites visitors to connect with him and stay updated through his posts and newsletter.\""
      ]
     },
     "execution_count": 9,
     "metadata": {},
     "output_type": "execute_result"
    }
   ],
   "source": [
    "summarize(\"https://edwarddonner.com\")"
   ]
  },
  {
   "cell_type": "code",
   "execution_count": 10,
   "id": "e03a3868-7948-473b-8e20-caec4d91d167",
   "metadata": {},
   "outputs": [],
   "source": [
    "def display_summary(url):\n",
    "    summary = summarize(url)\n",
    "    display(Markdown(summary))"
   ]
  },
  {
   "cell_type": "code",
   "execution_count": 11,
   "id": "3018853a-445f-41ff-9560-d925d1774b2f",
   "metadata": {},
   "outputs": [
    {
     "data": {
      "text/markdown": [
       "# Summary of Edward Donner's Website\n",
       "\n",
       "The website is dedicated to the personal and professional interests of Ed, who is passionate about coding and experimenting with large language models (LLMs). He is the co-founder and CTO of Nebula.io, an AI company focused on helping individuals discover their potential and manage talent, utilizing patented LLM technologies. Previously, he was the founder and CEO of the AI startup untapt, acquired in 2021.\n",
       "\n",
       "## Key Topics\n",
       "- **Outsmart**: A platform that features a competitive environment for LLMs where they engage in strategic diplomacy and cunning tactics.\n",
       "- **Blog Posts**: Ed shares various resources and insights, specifically tailored for data scientists and AI engineers.\n",
       "\n",
       "## Recent Announcements\n",
       "- **December 21, 2024**: Welcome message for \"SuperDataScientists.\"\n",
       "- **November 13, 2024**: Sharing resources for mastering AI and LLM Engineering.\n",
       "- **October 16, 2024**: Resources catered towards transitioning from software engineering to AI data science.\n",
       "- **August 6, 2024**: Introduction to the Outsmart LLM Arena."
      ],
      "text/plain": [
       "<IPython.core.display.Markdown object>"
      ]
     },
     "metadata": {},
     "output_type": "display_data"
    }
   ],
   "source": [
    "display_summary(\"https://edwarddonner.com\")"
   ]
  },
  {
   "cell_type": "code",
   "execution_count": 12,
   "id": "45d83403-a24c-44b5-84ac-961449b4008f",
   "metadata": {},
   "outputs": [
    {
     "data": {
      "text/markdown": [
       "# CNN Website Summary\n",
       "\n",
       "CNN's website serves as a comprehensive source for breaking news, covering a wide array of topics including U.S. and world politics, business, health, entertainment, sports, science, and climate news. It provides live updates on significant events such as the ongoing wildfires in Los Angeles and developments in international conflicts like the Ukraine-Russia and Israel-Hamas wars.\n",
       "\n",
       "## Key Updates:\n",
       "- **Los Angeles Wildfires**: Reports state at least 24 fatalities and numerous missing persons. Authorities indicate that assessing the situation is currently unsafe.\n",
       "- **Trump Investigation**: A judge has approved the release of the special counsel's report related to former President Trump and allegations of election subversion.\n",
       "- **Gaza Ceasefire**: U.S. officials have indicated that a ceasefire deal regarding Gaza may be imminent, offering a rare glimpse of optimism.\n",
       "- **International News**: New prime minister named in Lebanon, and a tsunami advisory lifted post a 6.9 magnitude earthquake in Japan.\n",
       "\n",
       "CNN continues to provide live broadcasts, video content, and in-depth coverage of significant events, fostering engagement through its platform."
      ],
      "text/plain": [
       "<IPython.core.display.Markdown object>"
      ]
     },
     "metadata": {},
     "output_type": "display_data"
    }
   ],
   "source": [
    "display_summary(\"https://cnn.com\")"
   ]
  },
  {
   "cell_type": "code",
   "execution_count": 14,
   "id": "75e9fd40-b354-4341-991e-863ef2e59db7",
   "metadata": {},
   "outputs": [
    {
     "data": {
      "text/markdown": [
       "# Anthropic Overview\n",
       "\n",
       "Anthropic is an AI safety and research company based in San Francisco, focused on developing reliable and beneficial AI systems. The company offers various AI products, prominently featuring their latest models, Claude 3.5 Sonnet and Claude 3.5 Haiku, aimed at facilitating safe and effective human-AI interactions.\n",
       "\n",
       "## Key Updates\n",
       "\n",
       "- **Claude 3.5 Sonnet Launch**: The latest AI model, Claude 3.5 Sonnet, has been made available for users.\n",
       "- **Introduction of Computer Use**: Alongside Sonnet, a new feature allowing computer use has been introduced.\n",
       "- **Product for Enterprises**: The company provides tailored solutions for enterprise needs.\n",
       "- **Research Focus**: Anthropic prioritizes AI safety, engaging in interdisciplinary research to ensure systems remain beneficial and harmless.\n",
       "\n",
       "## Recent Announcements\n",
       "\n",
       "- **Claude 3.5 Sonnet and Haiku**: These updates were announced on October 22, 2024, highlighting improvements in the AI models.\n",
       "- **Constitutional AI Research Paper**: Released on December 15, 2022, addressing AI harmlessness through feedback mechanisms.\n",
       "- **Core Views on AI Safety**: A paper outlining essential perspectives on AI safety was published on March 8, 2023.\n",
       "\n",
       "Anthropic invites collaboration and offers careers in various fields related to AI and safety."
      ],
      "text/plain": [
       "<IPython.core.display.Markdown object>"
      ]
     },
     "metadata": {},
     "output_type": "display_data"
    }
   ],
   "source": [
    "display_summary(\"https://anthropic.com\")"
   ]
  },
  {
   "cell_type": "markdown",
   "id": "36ed9f14-b349-40e9-a42c-b367e77f8bda",
   "metadata": {},
   "source": [
    "## An extra exercise for those who enjoy web scraping\n",
    "\n",
    "You may notice that if you try `display_summary(\"https://openai.com\")` - it doesn't work! That's because OpenAI has a fancy website that uses Javascript. There are many ways around this that some of you might be familiar with. For example, Selenium is a hugely popular framework that runs a browser behind the scenes, renders the page, and allows you to query it. If you have experience with Selenium, Playwright or similar, then feel free to improve the Website class to use them. Please push your code afterwards so I can share it with other students!"
   ]
  },
  {
   "cell_type": "code",
   "execution_count": null,
   "id": "52ae98bb",
   "metadata": {},
   "outputs": [],
   "source": [
    "display_summary(\"https://openai.com\")"
   ]
  },
  {
   "cell_type": "code",
   "execution_count": 15,
   "id": "5d57e958",
   "metadata": {},
   "outputs": [],
   "source": [
    "#Parse webpages which is designed using JavaScript heavely\n",
    "# download the chorme driver from here as per your version of chrome - https://developer.chrome.com/docs/chromedriver/downloads\n",
    "from selenium import webdriver\n",
    "from selenium.webdriver.chrome.service import Service\n",
    "from selenium.webdriver.common.by import By\n",
    "from selenium.webdriver.chrome.options import Options\n",
    "\n",
    "PATH_TO_CHROME_DRIVER = 'c:\\\\projects\\\\llm_engineering\\\\chromedriver.exe'\n",
    "\n",
    "class Website:\n",
    "    url: str\n",
    "    title: str\n",
    "    text: str\n",
    "\n",
    "    def __init__(self, url):\n",
    "        self.url = url\n",
    "\n",
    "        options = Options()\n",
    "\n",
    "        #options.add_argument(\"--no-sandbox\")\n",
    "        #options.add_argument(\"--disable-dev-shm-usage\")\n",
    "        options.add_argument('--disable-blink-features=AutomationControlled')\n",
    "        options.add_argument('user-agent=Mozilla/5.0 (Windows NT 10.0; Win64; x64) AppleWebKit/537.36 (KHTML, like Gecko) Chrome/120.0.6099.71 Safari/537.36')\n",
    "\n",
    "        service = Service(PATH_TO_CHROME_DRIVER)\n",
    "        driver = webdriver.Chrome(service=service, options=options)\n",
    "        driver.get(url)\n",
    "\n",
    "    #    input(\"Please complete the verification in the browser and press Enter to continue...\")\n",
    "        page_source = driver.page_source\n",
    "        driver.quit()\n",
    "\n",
    "        soup = BeautifulSoup(page_source, 'html.parser')\n",
    "        self.title = soup.title.string if soup.title else \"No title found\"\n",
    "        for irrelevant in soup([\"script\", \"style\", \"img\", \"input\"]):\n",
    "            irrelevant.decompose()\n",
    "        self.text = soup.get_text(separator=\"\\n\", strip=True)"
   ]
  },
  {
   "cell_type": "code",
   "execution_count": 18,
   "id": "65192f6b",
   "metadata": {},
   "outputs": [
    {
     "data": {
      "text/markdown": [
       "# Summary of Za IT strokovnjake\n",
       "\n",
       "The website **Kompas Xnet** offers various educational programs and IT services designed for professionals and businesses. Their offerings include:\n",
       "\n",
       "- **Software Development**\n",
       "- **Educational and Examination Center**\n",
       "- **Infrastructure Services**\n",
       "- **SharePoint and BI Solutions**\n",
       "- **Custom Training and Business Skills Workshops**\n",
       "\n",
       "## Courses and Training\n",
       "The educational center provides a wide range of courses catering to both beginners and experienced IT professionals. Key features include:\n",
       "\n",
       "- Official Microsoft courses are a significant part of their curriculum, recognized worldwide.\n",
       "- Practical and interactive training emphasizing real-world application.\n",
       "- Masterclasses from internationally recognized experts in IT security and management.\n",
       "- Courses in database management (SQL), programming (Java, Python), and Microsoft Dynamics CRM.\n",
       "\n",
       "## Recent News\n",
       "The website mentions an upcoming course titled **Power Excel** on **January 16, 2024**, encouraging users to register.\n",
       "\n",
       "## User Testimonials\n",
       "Valuable feedback from participants highlights the effectiveness and professionalism of their training, solidifying Kompas Xnet's reputation as a reliable partner in IT education.\n",
       "\n",
       "## Contact Information\n",
       "For inquiries and further information, users can reach out via phone or email listed on the website. \n",
       "\n",
       "Overall, **Kompas Xnet** stands out as a professional hub for IT education and training, responding to the evolving needs of the industry."
      ],
      "text/plain": [
       "<IPython.core.display.Markdown object>"
      ]
     },
     "metadata": {},
     "output_type": "display_data"
    }
   ],
   "source": [
    "display_summary(\"https://www.kompas-xnet.si/izobrazevanja/za-it-strokovnjake\")"
   ]
  },
  {
   "cell_type": "code",
   "execution_count": 17,
   "id": "354ab7f8-28d1-4538-8290-f3da2c140856",
   "metadata": {},
   "outputs": [
    {
     "data": {
      "text/markdown": [
       "# Summary of Talent Optimization Platform - The Predictive Index\n",
       "\n",
       "The Predictive Index offers a Talent Optimization Platform designed to enhance hiring, employee development, and retention through personalized HR software. It utilizes validated assessments and behavioral science to improve recruitment and team dynamics while fostering employee engagement. Key features include:\n",
       "\n",
       "- **Validated Hiring**: Assessments to identify top candidates, reducing the risk of mishires.\n",
       "- **Leadership and Employee Development**: Tools for personalized growth, effective communication, and team alignment.\n",
       "- **Employee Engagement**: Science-driven surveys to understand and improve employee satisfaction.\n",
       "- **People Management**: Resources for managers to develop their teams and enhance accountability.\n",
       "\n",
       "The platform is actionable throughout the employee lifecycle, making it a comprehensive solution for optimizing talent management in organizations.\n",
       "\n",
       "### Customer Success Stories\n",
       "Notable customer success stories highlight the effectiveness of the platform:\n",
       "- **Totango**: Achieved a 20% reduction in attrition.\n",
       "- **Builtech**: Saved nearly $200,000 in turnover costs.\n",
       "\n",
       "### Science and Methodology\n",
       "The Predictive Index is backed by extensive behavioral science, with over 60 years of research and 300 validity studies informing its assessments. \n",
       "\n",
       "### Resources and Learning\n",
       "The platform provides educational resources, certifications, webinars, and industry blogs to help users maximize their understanding and application of its features.\n",
       "\n",
       "### Call to Action\n",
       "Visitors to the website can request a demo to see how the platform can optimize their talent management processes."
      ],
      "text/plain": [
       "<IPython.core.display.Markdown object>"
      ]
     },
     "metadata": {},
     "output_type": "display_data"
    }
   ],
   "source": [
    "display_summary(\"https://www.predictiveindex.com/software/\")"
   ]
  },
  {
   "cell_type": "code",
   "execution_count": null,
   "id": "22b05b23-dddc-4cc6-9964-a32516f3e850",
   "metadata": {},
   "outputs": [],
   "source": []
  }
 ],
 "metadata": {
  "kernelspec": {
   "display_name": "Python 3 (ipykernel)",
   "language": "python",
   "name": "python3"
  },
  "language_info": {
   "codemirror_mode": {
    "name": "ipython",
    "version": 3
   },
   "file_extension": ".py",
   "mimetype": "text/x-python",
   "name": "python",
   "nbconvert_exporter": "python",
   "pygments_lexer": "ipython3",
   "version": "3.11.11"
  }
 },
 "nbformat": 4,
 "nbformat_minor": 5
}
