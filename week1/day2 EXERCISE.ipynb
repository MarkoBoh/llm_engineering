{
 "cells": [
  {
   "cell_type": "markdown",
   "id": "d15d8294-3328-4e07-ad16-8a03e9bbfdb9",
   "metadata": {},
   "source": [
    "# Welcome to your first assignment!\n",
    "\n",
    "Instructions are below. Please give this a try, and look in the solutions folder if you get stuck (or feel free to ask me!)"
   ]
  },
  {
   "cell_type": "markdown",
   "id": "ada885d9-4d42-4d9b-97f0-74fbbbfe93a9",
   "metadata": {},
   "source": [
    "<table style=\"margin: 0; text-align: left;\">\n",
    "    <tr>\n",
    "        <td style=\"width: 150px; height: 150px; vertical-align: middle;\">\n",
    "            <img src=\"../resources.jpg\" width=\"150\" height=\"150\" style=\"display: block;\" />\n",
    "        </td>\n",
    "        <td>\n",
    "            <h2 style=\"color:#f71;\">Just before we get to the assignment --</h2>\n",
    "            <span style=\"color:#f71;\">I thought I'd take a second to point you at this page of useful resources for the course. This includes links to all the slides.<br/>\n",
    "            <a href=\"https://edwarddonner.com/2024/11/13/llm-engineering-resources/\">https://edwarddonner.com/2024/11/13/llm-engineering-resources/</a><br/>\n",
    "            Please keep this bookmarked, and I'll continue to add more useful links there over time.\n",
    "            </span>\n",
    "        </td>\n",
    "    </tr>\n",
    "</table>"
   ]
  },
  {
   "cell_type": "markdown",
   "id": "6e9fa1fc-eac5-4d1d-9be4-541b3f2b3458",
   "metadata": {},
   "source": [
    "# HOMEWORK EXERCISE ASSIGNMENT\n",
    "\n",
    "Upgrade the day 1 project to summarize a webpage to use an Open Source model running locally via Ollama rather than OpenAI\n",
    "\n",
    "You'll be able to use this technique for all subsequent projects if you'd prefer not to use paid APIs.\n",
    "\n",
    "**Benefits:**\n",
    "1. No API charges - open-source\n",
    "2. Data doesn't leave your box\n",
    "\n",
    "**Disadvantages:**\n",
    "1. Significantly less power than Frontier Model\n",
    "\n",
    "## Recap on installation of Ollama\n",
    "\n",
    "Simply visit [ollama.com](https://ollama.com) and install!\n",
    "\n",
    "Once complete, the ollama server should already be running locally.  \n",
    "If you visit:  \n",
    "[http://localhost:11434/](http://localhost:11434/)\n",
    "\n",
    "You should see the message `Ollama is running`.  \n",
    "\n",
    "If not, bring up a new Terminal (Mac) or Powershell (Windows) and enter `ollama serve`  \n",
    "And in another Terminal (Mac) or Powershell (Windows), enter `ollama pull llama3.2`  \n",
    "Then try [http://localhost:11434/](http://localhost:11434/) again.\n",
    "\n",
    "If Ollama is slow on your machine, try using `llama3.2:1b` as an alternative. Run `ollama pull llama3.2:1b` from a Terminal or Powershell, and change the code below from `MODEL = \"llama3.2\"` to `MODEL = \"llama3.2:1b\"`"
   ]
  },
  {
   "cell_type": "code",
   "execution_count": 1,
   "id": "4e2a9393-7767-488e-a8bf-27c12dca35bd",
   "metadata": {},
   "outputs": [],
   "source": [
    "# imports\n",
    "\n",
    "import requests\n",
    "from bs4 import BeautifulSoup\n",
    "from IPython.display import Markdown, display"
   ]
  },
  {
   "cell_type": "code",
   "execution_count": 2,
   "id": "29ddd15d-a3c5-4f4e-a678-873f56162724",
   "metadata": {},
   "outputs": [],
   "source": [
    "# Constants\n",
    "\n",
    "OLLAMA_API = \"http://localhost:11434/api/chat\"\n",
    "HEADERS = {\"Content-Type\": \"application/json\"}\n",
    "MODEL = \"llama3.2\""
   ]
  },
  {
   "cell_type": "code",
   "execution_count": 3,
   "id": "dac0a679-599c-441f-9bf2-ddc73d35b940",
   "metadata": {},
   "outputs": [],
   "source": [
    "# Create a messages list using the same format that we used for OpenAI\n",
    "\n",
    "messages = [\n",
    "    {\"role\": \"user\", \"content\": \"Describe some of the business applications of Generative AI\"}\n",
    "]"
   ]
  },
  {
   "cell_type": "code",
   "execution_count": 4,
   "id": "7bb9c624-14f0-4945-a719-8ddb64f66f47",
   "metadata": {},
   "outputs": [],
   "source": [
    "payload = {\n",
    "        \"model\": MODEL,\n",
    "        \"messages\": messages,\n",
    "        \"stream\": False\n",
    "    }"
   ]
  },
  {
   "cell_type": "code",
<<<<<<< HEAD
   "execution_count": 5,
=======
   "execution_count": null,
   "id": "479ff514-e8bd-4985-a572-2ea28bb4fa40",
   "metadata": {},
   "outputs": [],
   "source": [
    "# Let's just make sure the model is loaded\n",
    "\n",
    "!ollama pull llama3.2"
   ]
  },
  {
   "cell_type": "code",
   "execution_count": null,
>>>>>>> fdee3ec040b60f0741d53010aaf269c4c3abcd00
   "id": "42b9f644-522d-4e05-a691-56e7658c0ea9",
   "metadata": {},
   "outputs": [
    {
     "name": "stdout",
     "output_type": "stream",
     "text": [
      "Generative AI has numerous business applications across various industries. Here are some examples:\n",
      "\n",
      "1. **Content Creation**: Generative AI can be used to generate high-quality content such as articles, social media posts, and even entire books. Companies like WordLift and Content Blossom use generative AI to create content for their clients.\n",
      "2. **Product Design**: Generative AI can design products such as furniture, clothing, and even entire product lines. Companies like Autodesk and Google are using generative AI to design new products and improve existing ones.\n",
      "3. **Marketing Automation**: Generative AI can be used to personalize marketing messages and create targeted ads. For example, companies like HubSpot and Salesforce use generative AI to automate marketing campaigns.\n",
      "4. **Customer Service Chatbots**: Generative AI can be used to power customer service chatbots that can understand natural language and respond accordingly. Companies like IBM and Microsoft are using generative AI to improve their customer service chatbots.\n",
      "5. **Data Analysis**: Generative AI can analyze large datasets and identify patterns and insights that may not be apparent to human analysts. Companies like Tableau and Google use generative AI to analyze data and make predictions.\n",
      "6. **Cybersecurity**: Generative AI can be used to detect and prevent cyber threats by analyzing network traffic and identifying suspicious patterns. Companies like IBM and Symantec are using generative AI to improve their cybersecurity solutions.\n",
      "7. **Language Translation**: Generative AI can be used to translate languages in real-time, allowing for more efficient communication across language barriers. Companies like Google Translate and Microsoft Translator use generative AI to power their translation services.\n",
      "8. **Music and Audio Generation**: Generative AI can be used to generate music and audio content such as jingles, sound effects, and even entire albums. Companies like Amper Music and AIVA use generative AI to create music and audio content for their clients.\n",
      "9. **Fashion Design**: Generative AI can design clothing and accessories by analyzing fashion trends and creating new designs based on that data. Companies like Stella McCartney and Diesel are using generative AI to improve their fashion designs.\n",
      "10. **Scientific Research**: Generative AI can be used to analyze large datasets in scientific research, identify patterns and insights, and even generate new hypotheses. Companies like Google and IBM are using generative AI to advance scientific research.\n",
      "\n",
      "Some of the key benefits of generative AI include:\n",
      "\n",
      "* Increased efficiency: Generative AI can automate many tasks and processes, freeing up human employees to focus on higher-value tasks.\n",
      "* Improved accuracy: Generative AI can analyze large datasets and identify patterns and insights that may not be apparent to human analysts.\n",
      "* Enhanced creativity: Generative AI can generate new ideas and designs that may not have been possible for humans to come up with on their own.\n",
      "* Increased personalization: Generative AI can analyze customer data and create personalized experiences for customers.\n",
      "\n",
      "However, generative AI also has some limitations and challenges, such as:\n",
      "\n",
      "* Bias: Generative AI can perpetuate biases in the data used to train it, leading to inaccurate or unfair results.\n",
      "* Lack of transparency: Generative AI can be difficult to understand and interpret, making it challenging to explain how its decisions were made.\n",
      "* Job displacement: Generative AI may displace human workers in certain industries, particularly those that involve repetitive or routine tasks.\n",
      "\n",
      "Overall, generative AI has the potential to transform many businesses and industries by increasing efficiency, improving accuracy, enhancing creativity, and increasing personalization. However, it's essential to address the limitations and challenges associated with generative AI to ensure its successful adoption.\n"
     ]
    }
   ],
   "source": [
    "# If this doesn't work for any reason, try the 2 versions in the following cells\n",
    "# And double check the instructions in the 'Recap on installation of Ollama' at the top of this lab\n",
    "# And if none of that works - contact me!\n",
    "\n",
    "response = requests.post(OLLAMA_API, json=payload, headers=HEADERS)\n",
    "print(response.json()['message']['content'])"
   ]
  },
  {
   "cell_type": "markdown",
   "id": "6a021f13-d6a1-4b96-8e18-4eae49d876fe",
   "metadata": {},
   "source": [
    "# Introducing the ollama package\n",
    "\n",
    "And now we'll do the same thing, but using the elegant ollama python package instead of a direct HTTP call.\n",
    "\n",
    "Under the hood, it's making the same call as above to the ollama server running at localhost:11434"
   ]
  },
  {
   "cell_type": "code",
   "execution_count": 6,
   "id": "7745b9c4-57dc-4867-9180-61fa5db55eb8",
   "metadata": {},
   "outputs": [
    {
     "name": "stdout",
     "output_type": "stream",
     "text": [
      "Generative AI has numerous business applications across various industries. Here are some examples:\n",
      "\n",
      "1. **Content Creation**: Generative AI can generate high-quality content such as:\n",
      " * Product descriptions\n",
      " * Social media posts\n",
      " * Blog articles\n",
      " * Advertisements\n",
      " * Product reviews\n",
      "2. **Marketing Automation**: Generative AI can help automate marketing processes by:\n",
      " * Generating personalized emails and messages\n",
      " * Creating targeted social media ads\n",
      " * Predicting customer behavior and preferences\n",
      "3. **Customer Service**: Generative AI can be used to:\n",
      " * Provide 24/7 chat support with human-like responses\n",
      " * Automate customer service inquiries\n",
      " * Offer personalized product recommendations\n",
      "4. **Design and Prototyping**: Generative AI can help designers and artists by:\n",
      " * Generating new design ideas\n",
      " * Creating prototypes quickly and efficiently\n",
      " * Designing logos, packaging, and branding materials\n",
      "5. **Data Analysis and Visualization**: Generative AI can analyze and visualize complex data sets to:\n",
      " * Identify trends and patterns\n",
      " * Predict future outcomes\n",
      " * Create interactive dashboards and reports\n",
      "6. **Supply Chain Optimization**: Generative AI can help optimize supply chain operations by:\n",
      " * Predicting demand and inventory levels\n",
      " * Identifying bottlenecks and inefficiencies\n",
      " * Optimizing shipping routes and logistics\n",
      "7. **Creative Writing and Editing**: Generative AI can be used to:\n",
      " * Assist writers with research and ideas\n",
      " * Edit and proofread content for grammar and style\n",
      " * Generate new writing styles and formats\n",
      "8. **Audio and Music Generation**: Generative AI can create original music, audio effects, and even voiceovers.\n",
      "9. **Image and Video Generation**: Generative AI can generate high-quality images, videos, and animations.\n",
      "10. **Predictive Maintenance**: Generative AI can analyze sensor data from machines and predict when maintenance is needed to prevent downtime and reduce costs.\n",
      "11. **Financial Modeling**: Generative AI can help financial analysts build more accurate models by:\n",
      " * Analyzing large datasets\n",
      " * Identifying trends and patterns\n",
      " * Predicting future outcomes\n",
      "12. **Human Resources Management**: Generative AI can be used to:\n",
      " * Automate recruitment processes\n",
      " * Analyze employee data for insights\n",
      " * Provide personalized career development recommendations\n",
      "\n",
      "These are just a few examples of the many business applications of Generative AI. As the technology continues to evolve, we can expect even more innovative uses in various industries.\n"
     ]
    }
   ],
   "source": [
    "import ollama\n",
    "\n",
    "response = ollama.chat(model=MODEL, messages=messages)\n",
    "print(response['message']['content'])"
   ]
  },
  {
   "cell_type": "markdown",
   "id": "a4704e10-f5fb-4c15-a935-f046c06fb13d",
   "metadata": {},
   "source": [
    "## Alternative approach - using OpenAI python library to connect to Ollama"
   ]
  },
  {
   "cell_type": "code",
   "execution_count": 7,
   "id": "23057e00-b6fc-4678-93a9-6b31cb704bff",
   "metadata": {},
   "outputs": [
    {
     "name": "stdout",
     "output_type": "stream",
     "text": [
      "Generative AI has numerous business applications across various industries. Here are some examples:\n",
      "\n",
      "1. **Content Generation**: Generative AI can create high-quality content such as articles, blog posts, social media posts, and even entire books. This can save time and resources for businesses looking to produce large volumes of content.\n",
      "2. **Product Design**: Generative AI can be used to design new product prototypes, patterns, and even entire product lines. This can help businesses reduce the complexity and cost associated with traditional product development.\n",
      "3. **Customer Service Chatbots**: Generative AI-powered chatbots can provide 24/7 customer support, answering frequently asked questions and helping customers resolve issues on their own.\n",
      "4. **Marketing Automation**: Generative AI can analyze market trends, create personalized marketing campaigns, and even generate social media content to help businesses optimize their marketing strategy.\n",
      "5. **Financial Modeling and Analytics**: Generative AI can be used to build predictive models of financial markets, forecast future sales, identify potential risks, and provide insights on portfolio optimization.\n",
      "6. **Translation and Localization**: Generative AI-powered translation tools can quickly translate text, audio, and even entire web pages, making it easier for businesses to expand into international markets.\n",
      "7. **Image and Video Generation**: Generative AI can generate high-quality images and videos that can be used in advertising campaigns, product demonstrations, or even medical imaging applications.\n",
      "8. **Predictive Maintenance**: Generative AI sensors can analyze data from industrial equipment and predict when maintenance is needed, reducing downtime and increasing efficiency.\n",
      "9. **Sales Forecasting**: Generative AI can create sales forecasts by analyzing historical sales data, seasonality patterns, and market trends to provide accurate predictions of future demand.\n",
      "10. **Compliance and Risk Management**: Generative AI-powered tools can analyze text, images, and audio files to detect anomalies, identify potential security threats, and help businesses comply with regulatory requirements.\n",
      "\n",
      "Some specific companies that are leveraging Generative AI in the business realm include:\n",
      "\n",
      "1. **Content creation platforms** like WordLift, Content Blossom, and Article Forge.\n",
      "2. **Product design startups** like Prisma Labs, which is developing a Generative Design platform for architecture and product design.\n",
      "3. **Customer service chatbots** like ManyChat and Dialogflow, which enable businesses to create conversational interfaces with customers.\n",
      "4. **Marketing automation platforms** like HubSpot, Marketo, and Mailchimp, which are integrating Generative AI capabilities into their solutions.\n",
      "\n",
      "These applications demonstrate the potential of Generative AI to drive business growth, improve customer experiences, and optimize operations.\n"
     ]
    }
   ],
   "source": [
    "# There's actually an alternative approach that some people might prefer\n",
    "# You can use the OpenAI client python library to call Ollama:\n",
    "\n",
    "from openai import OpenAI\n",
    "ollama_via_openai = OpenAI(base_url='http://localhost:11434/v1', api_key='ollama')\n",
    "\n",
    "response = ollama_via_openai.chat.completions.create(\n",
    "    model=MODEL,\n",
    "    messages=messages\n",
    ")\n",
    "\n",
    "print(response.choices[0].message.content)"
   ]
  },
  {
   "cell_type": "markdown",
   "id": "1622d9bb-5c68-4d4e-9ca4-b492c751f898",
   "metadata": {},
   "source": [
    "# NOW the exercise for you\n",
    "\n",
    "Take the code from day1 and incorporate it here, to build a website summarizer that uses Llama 3.2 running locally instead of OpenAI; use either of the above approaches."
   ]
  },
  {
   "cell_type": "code",
   "execution_count": 9,
   "id": "de41ceb5-eb6d-4136-8ade-82249f879b9c",
   "metadata": {},
   "outputs": [],
   "source": [
    "# imports\n",
    "\n",
    "import os\n",
    "import requests\n",
    "from dotenv import load_dotenv\n",
    "from bs4 import BeautifulSoup\n",
    "from IPython.display import Markdown, display\n",
    "from openai import OpenAI\n",
    "\n",
    "# If you get an error running this cell, then please head over to the troubleshooting notebook!"
   ]
  },
  {
   "cell_type": "code",
   "execution_count": 10,
   "id": "402d5686-4e76-4110-b65a-b3906c35c0a4",
   "metadata": {},
   "outputs": [],
   "source": [
    "# A class to represent a Webpage\n",
    "# If you're not familiar with Classes, check out the \"Intermediate Python\" notebook\n",
    "\n",
    "# Some websites need you to use proper headers when fetching them:\n",
    "headers = {\n",
    " \"User-Agent\": \"Mozilla/5.0 (Windows NT 10.0; Win64; x64) AppleWebKit/537.36 (KHTML, like Gecko) Chrome/117.0.0.0 Safari/537.36\"\n",
    "}\n",
    "\n",
    "class Website:\n",
    "\n",
    "    def __init__(self, url):\n",
    "        \"\"\"\n",
    "        Create this Website object from the given url using the BeautifulSoup library\n",
    "        \"\"\"\n",
    "        self.url = url\n",
    "        response = requests.get(url, headers=headers)\n",
    "        soup = BeautifulSoup(response.content, 'html.parser')\n",
    "        self.title = soup.title.string if soup.title else \"No title found\"\n",
    "        for irrelevant in soup.body([\"script\", \"style\", \"img\", \"input\"]):\n",
    "            irrelevant.decompose()\n",
    "        self.text = soup.body.get_text(separator=\"\\n\", strip=True)"
   ]
  },
  {
   "cell_type": "code",
   "execution_count": 11,
   "id": "2cebf557-90ef-4a14-a3a5-d3c6c29ba61d",
   "metadata": {},
   "outputs": [],
   "source": [
    "#Parse webpages which is designed using JavaScript heavely\n",
    "# download the chorme driver from here as per your version of chrome - https://developer.chrome.com/docs/chromedriver/downloads\n",
    "from selenium import webdriver\n",
    "from selenium.webdriver.chrome.service import Service\n",
    "from selenium.webdriver.common.by import By\n",
    "from selenium.webdriver.chrome.options import Options\n",
    "\n",
    "PATH_TO_CHROME_DRIVER = 'c:\\\\projects\\\\llm_engineering\\\\chromedriver.exe'\n",
    "\n",
    "class Website:\n",
    "    url: str\n",
    "    title: str\n",
    "    text: str\n",
    "\n",
    "    def __init__(self, url):\n",
    "        self.url = url\n",
    "\n",
    "        options = Options()\n",
    "\n",
    "        #options.add_argument(\"--no-sandbox\")\n",
    "        #options.add_argument(\"--disable-dev-shm-usage\")\n",
    "        options.add_argument('--disable-blink-features=AutomationControlled')\n",
    "        options.add_argument('user-agent=Mozilla/5.0 (Windows NT 10.0; Win64; x64) AppleWebKit/537.36 (KHTML, like Gecko) Chrome/120.0.6099.71 Safari/537.36')\n",
    "\n",
    "        service = Service(PATH_TO_CHROME_DRIVER)\n",
    "        driver = webdriver.Chrome(service=service, options=options)\n",
    "        driver.get(url)\n",
    "\n",
    "    #    input(\"Please complete the verification in the browser and press Enter to continue...\")\n",
    "        page_source = driver.page_source\n",
    "        driver.quit()\n",
    "\n",
    "        soup = BeautifulSoup(page_source, 'html.parser')\n",
    "        self.title = soup.title.string if soup.title else \"No title found\"\n",
    "        for irrelevant in soup([\"script\", \"style\", \"img\", \"input\"]):\n",
    "            irrelevant.decompose()\n",
    "        self.text = soup.get_text(separator=\"\\n\", strip=True)"
   ]
  },
  {
   "cell_type": "code",
   "execution_count": 12,
   "id": "050f227e-35ed-43a7-af7c-75b88496b7d0",
   "metadata": {},
   "outputs": [],
   "source": [
    "# Define our system prompt - you can experiment with this later, changing the last sentence to 'Respond in markdown in Spanish.\"\n",
    "\n",
    "system_prompt = \"You are an assistant that analyzes the contents of a website \\\n",
    "and provides a short summary, ignoring text that might be navigation related. \\\n",
    "Respond in markdown.\""
   ]
  },
  {
   "cell_type": "code",
   "execution_count": 16,
   "id": "686e706e-a242-495e-b939-99b337073fbe",
   "metadata": {},
   "outputs": [],
   "source": [
    " #A function that writes a User Prompt that asks for summaries of websites:\n",
    "\n",
    "def user_prompt_for(website):\n",
    "    user_prompt = f\"You are looking at a website titled {website.title}\"\n",
    "    user_prompt += \"\\n The contents of this website is as follows; \\\n",
    "please provide a short summary of this website in markdown. \\\n",
    "If it includes news or announcements, then summarize these too.\\n\\n\"\n",
    "    user_prompt += website.text\n",
    "    return user_prompt"
   ]
  },
  {
   "cell_type": "code",
   "execution_count": 18,
   "id": "65f70b58-1833-40af-a829-11c06ab28705",
   "metadata": {},
   "outputs": [],
   "source": [
    " #See how this function creates exactly the format above\n",
    "\n",
    "def messages_for(website):\n",
    "    return [\n",
    "        {\"role\": \"system\", \"content\": system_prompt},\n",
    "        {\"role\": \"user\", \"content\": user_prompt_for(website)}\n",
    "    ]"
   ]
  },
  {
   "cell_type": "code",
   "execution_count": 22,
   "id": "434bdc48-fff1-4790-8ac3-bc4f32f32d26",
   "metadata": {},
   "outputs": [],
   "source": [
    "#And now: call the OpenAI API. You will get very familiar with this!\n",
    "from openai import OpenAI\n",
    "# Constants\n",
    "\n",
    "OLLAMA_API = \"http://localhost:11434/api/chat\"\n",
    "HEADERS = {\"Content-Type\": \"application/json\"}\n",
    "MODEL = \"llama3.2\"\n",
    "\n",
    "def summarize(url):\n",
    "    website = Website(url)\n",
    "    ollama_via_openai = OpenAI(base_url='http://localhost:11434/v1', api_key='ollama')\n",
    "\n",
    "    response = ollama_via_openai.chat.completions.create(\n",
    "    model=MODEL,\n",
    "    messages=messages_for(website))\n",
    "    return response.choices[0].message.content"
   ]
  },
  {
   "cell_type": "code",
   "execution_count": 20,
   "id": "8eade9c1-39a8-4f8e-8407-6cfd0adbf83b",
   "metadata": {},
   "outputs": [],
   "source": [
    "# A function to display this nicely in the Jupyter output, using markdown\n",
    "\n",
    "def display_summary(url):\n",
    "    summary = summarize(url)\n",
    "    display(Markdown(summary))"
   ]
  },
  {
   "cell_type": "code",
   "execution_count": 24,
   "id": "873224fe-d987-4611-a3b2-313938550966",
   "metadata": {},
   "outputs": [
    {
     "data": {
      "text/markdown": [
       "# Website Summary\n",
       "\n",
       "## Category and Purpose\n",
       "\n",
       "This website appears to be related to business analytics, specifically predictive analytics and sales forecasting. It seems to target professionals in B2B settings who aim to improve their performance and achieve sales targets.\n",
       "\n",
       "## Key Features and Tools\n",
       "\n",
       "- The Predictive Index (PI) is a state-of-the-art tool mentioned, which provides insights on how people align with specific leadership styles.\n",
       "- Machine Learning-based Sales Forecasting API service for informing sales predictions at an individual or team level.\n",
       "- Certification of Salvirt Ltd. as a trusted provider in this area.\n",
       "\n",
       "## Upcoming Events and Announcements\n",
       "\n",
       "Predictive Index workshops scheduled in Slovenia:\n",
       "\n",
       "* 21-22 January 2025 - Open Format\n",
       "* 18-19 March 2025 - New Analysts Focus\n",
       "* 15-16 July 2025 \n",
       "* 14-15 October 2025\n",
       "\n",
       "Custom workshop scheduling for multiple participants is available."
      ],
      "text/plain": [
       "<IPython.core.display.Markdown object>"
      ]
     },
     "metadata": {},
     "output_type": "display_data"
    }
   ],
   "source": [
    "display_summary(\"https://www.salvirt.com\")"
   ]
  },
  {
   "cell_type": "code",
   "execution_count": null,
   "id": "e4c9a7c0-ebff-41f5-af46-bdf61b46463b",
   "metadata": {},
   "outputs": [],
   "source": []
  }
 ],
 "metadata": {
  "kernelspec": {
   "display_name": "Python 3 (ipykernel)",
   "language": "python",
   "name": "python3"
  },
  "language_info": {
   "codemirror_mode": {
    "name": "ipython",
    "version": 3
   },
   "file_extension": ".py",
   "mimetype": "text/x-python",
   "name": "python",
   "nbconvert_exporter": "python",
   "pygments_lexer": "ipython3",
   "version": "3.11.11"
  }
 },
 "nbformat": 4,
 "nbformat_minor": 5
}
